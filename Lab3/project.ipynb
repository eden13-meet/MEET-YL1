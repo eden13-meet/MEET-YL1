{
 "metadata": {
  "name": ""
 },
 "nbformat": 3,
 "nbformat_minor": 0,
 "worksheets": [
  {
   "cells": [
    {
     "cell_type": "markdown",
     "metadata": {},
     "source": [
      "First Semester Final Project "
     ]
    },
    {
     "cell_type": "markdown",
     "metadata": {},
     "source": [
      "Data is from http://lib.stat.cmu.edu/datasets/IQ_Brain_Size"
     ]
    },
    {
     "cell_type": "code",
     "collapsed": false,
     "input": [],
     "language": "python",
     "metadata": {},
     "outputs": []
    }
   ],
   "metadata": {}
  }
 ]
}